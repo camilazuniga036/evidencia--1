{
  "nbformat": 4,
  "nbformat_minor": 0,
  "metadata": {
    "colab": {
      "provenance": []
    },
    "kernelspec": {
      "name": "python3",
      "display_name": "Python 3"
    },
    "language_info": {
      "name": "python"
    }
  },
  "cells": [
    {
      "cell_type": "code",
      "execution_count": null,
      "metadata": {
        "id": "6BZ4v0Ke79ma"
      },
      "outputs": [],
      "source": [
        "# Viaje\n",
        "# Tienes $600 pesos, y un coche que que viaja a una velocidad constante de de 50km/hora y tiene el tanque sin gasolina.\n",
        "# ¿Qué distancia recorrerás con ese dinero? ¿En cuánto tiempo recorrerás esa distancia?\n",
        "# La distancia tiene que estar expresada en kilómetros, y el tiempo en minutos y segundos.\n",
        "\n",
        "# El precio no debe omitirse.\n",
        "# El precio debe ser un número.\n",
        "# El precio debe ser mayor a cero.\n",
        "# El programa no deja de preguntar el precio, sino hasta que\n",
        "# está correcto.\n",
        "# Me debe mostrar errores específicos (error, causa, acción).\n",
        "\n",
        "dinero=600.00\n",
        "v=50.00\n",
        "\n",
        "while True:\n",
        "    _precio=input(\"Dame el precio por litro de gasolina: \")\n",
        "    if (_precio==''):\n",
        "        print(\"Entrada incorrecta. El precio no puede omitirse. Intenta de nuevo.\")\n",
        "        continue\n",
        "    try:\n",
        "        precio=float(_precio)\n",
        "    except:\n",
        "        print(\"Entrada incorrecta. El precio debe ser un número. Intenta de nuevo.\")\n",
        "        continue\n",
        "    # Si llego aquí, ya tengo un valor numérico en precio.\n",
        "    if (not precio>0):\n",
        "        print(\"Entrada incorrecta. El precio debe ser mayor a cero. Intenta de nuevo.\")\n",
        "        continue\n",
        "    # Si todo salió bien, se sale del while\n",
        "    break\n",
        "\n",
        "litros=dinero/precio\n",
        "\n",
        "_rendimiento=input(\"Dame el rendimiento del coche: \")\n",
        "rendimiento=float(_rendimiento)\n",
        "\n",
        "d=rendimiento*litros\n",
        "t=d/v\n",
        "hh=int(t)\n",
        "mm=int((t-hh)*60)\n",
        "\n",
        "print(f\"El recorrido será de {d:.2f} km, en {hh} horas y {mm} minutos\")"
      ]
    }
  ]
}